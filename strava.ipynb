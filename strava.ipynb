{
 "cells": [
  {
   "cell_type": "code",
   "execution_count": null,
   "metadata": {},
   "outputs": [],
   "source": [
    "import numpy as np\n",
    "import matplotlib.pyplot as plt\n",
    "import gpxpy as gp\n",
    "import pandas as pd\n",
    "import geopandas as gpd\n",
    "import seaborn as sns\n",
    "import contextily as ctx\n",
    "\n",
    "from shapely.geometry import Point\n",
    "from pyproj import Proj, Transformer"
   ]
  },
  {
   "cell_type": "code",
   "execution_count": null,
   "metadata": {},
   "outputs": [],
   "source": [
    "gpx_file = open('Plateau_Saclay.gpx', 'r')\n",
    "gpx = gp.parse(gpx_file)"
   ]
  },
  {
   "cell_type": "code",
   "execution_count": null,
   "metadata": {},
   "outputs": [],
   "source": [
    "df = pd.DataFrame({'time': time, 'speed': speed})\n",
    "df['speed'] = df['speed'] * 60 * 60 / 1e3\n",
    "df['time'] = df['time'].dt.tz_localize(None)\n",
    "df = df.set_index('time')"
   ]
  },
  {
   "cell_type": "code",
   "execution_count": null,
   "metadata": {},
   "outputs": [],
   "source": [
    "speed = []\n",
    "time = []\n",
    "longitude = []\n",
    "latitude = []\n",
    "\n",
    "for track in gpx.tracks:\n",
    "  for segment in track.segments:\n",
    "    for point_no, point in enumerate(segment.points):\n",
    "      if point.speed != None:\n",
    "        print('Speed = {}'.format(point.speed))\n",
    "      elif point_no > 0:\n",
    "        speed.append(point.speed_between(segment.points[point_no - 1]))\n",
    "        time.append(point.time)\n",
    "        longitude.append(point.longitude)\n",
    "        latitude.append(point.latitude)"
   ]
  },
  {
   "cell_type": "code",
   "execution_count": null,
   "metadata": {},
   "outputs": [],
   "source": [
    "transformer = Transformer.from_crs('epsg:4326', 'epsg:3857')\n",
    "x, y = transformer.transform(latitude, longitude)\n",
    "df['coordinates'] = list(zip(x, y))\n",
    "df['coordinates'] = df['coordinates'].apply(Point)"
   ]
  },
  {
   "cell_type": "code",
   "execution_count": null,
   "metadata": {},
   "outputs": [],
   "source": [
    "gdf = gpd.GeoDataFrame(df, geometry='coordinates')"
   ]
  },
  {
   "cell_type": "code",
   "execution_count": null,
   "metadata": {},
   "outputs": [],
   "source": [
    "ax = gdf.plot(figsize=[15,15], c=gdf['speed'], markersize=20, legend=True)\n",
    "ax.get_xaxis().set_visible(False)\n",
    "ax.get_yaxis().set_visible(False)\n",
    "ctx.add_basemap(ax, source=ctx.providers.Stamen.Toner)\n",
    "plt.savefig('map.png', dpi=300)\n",
    "plt.show()"
   ]
  },
  {
   "cell_type": "code",
   "execution_count": null,
   "metadata": {},
   "outputs": [],
   "source": [
    "sns.set(rc={'figure.figsize':(8, 5)})\n",
    "sns.histplot(data=df, x='speed')\n",
    "plt.xlabel('Speed (km/hr)')\n",
    "plt.savefig('speed-distr.png', dpi=300)\n",
    "plt.show()"
   ]
  },
  {
   "cell_type": "code",
   "execution_count": null,
   "metadata": {},
   "outputs": [],
   "source": [
    "sns.set(rc={'figure.figsize':(15, 5)})\n",
    "sns.lineplot(data=df['speed'])\n",
    "plt.show()"
   ]
  }
 ],
 "metadata": {
  "kernelspec": {
   "display_name": "Python 3",
   "language": "python",
   "name": "python3"
  },
  "language_info": {
   "codemirror_mode": {
    "name": "ipython",
    "version": 3
   },
   "file_extension": ".py",
   "mimetype": "text/x-python",
   "name": "python",
   "nbconvert_exporter": "python",
   "pygments_lexer": "ipython3",
   "version": "3.8.6"
  }
 },
 "nbformat": 4,
 "nbformat_minor": 5
}
